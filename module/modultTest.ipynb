{
 "cells": [
  {
   "cell_type": "code",
   "execution_count": 25,
   "metadata": {},
   "outputs": [
    {
     "name": "stdout",
     "output_type": "stream",
     "text": [
      "0                    NaN\n",
      "1                    NaN\n",
      "2           졸업학기 수강신청 필수\n",
      "3           졸업학기 수강신청 필수\n",
      "4                    NaN\n",
      "              ...       \n",
      "2083    건축설계6 미이수시 수강 불가\n",
      "2084    건축설계6 미이수시 수강 불가\n",
      "2085                 NaN\n",
      "2086                 NaN\n",
      "2087                 NaN\n",
      "Name: 특이사항특이사항, Length: 2088, dtype: object\n"
     ]
    }
   ],
   "source": [
    "import pandas as pd\n",
    "\n",
    "# df.apply 및 str.replace를 활용한 공백 제거\n",
    "df = pd.read_excel(\"../22년1학기강의데이터/경희대학교 국제캠퍼스22년 1학기 강의목록.xlsx\", engine='openpyxl')\n",
    "\n",
    "ndf = df.apply(lambda df: df.str.replace(\" \",\"\"), axis = 1)\n",
    "print(ndf)\n",
    "\n",
    "ndf.to_excel(\"data.xlsx\", sheet_name=\"035420\", index=False)"
   ]
  }
 ],
 "metadata": {
  "interpreter": {
   "hash": "d9c56b445febd49f4c370631da2fba3b27ffdfd331b83714eaf54e52a77e4e41"
  },
  "kernelspec": {
   "display_name": "Python 3.7.8 64-bit",
   "language": "python",
   "name": "python3"
  },
  "language_info": {
   "codemirror_mode": {
    "name": "ipython",
    "version": 3
   },
   "file_extension": ".py",
   "mimetype": "text/x-python",
   "name": "python",
   "nbconvert_exporter": "python",
   "pygments_lexer": "ipython3",
   "version": "3.7.8"
  },
  "orig_nbformat": 4
 },
 "nbformat": 4,
 "nbformat_minor": 2
}
